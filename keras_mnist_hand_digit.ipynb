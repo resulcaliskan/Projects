{
  "nbformat": 4,
  "nbformat_minor": 0,
  "metadata": {
    "colab": {
      "name": "keras_mnist_hand_digit.ipynb",
      "provenance": [],
      "collapsed_sections": [],
      "authorship_tag": "ABX9TyMyEmSt00HrErGbZgGbgneg",
      "include_colab_link": true
    },
    "kernelspec": {
      "name": "python3",
      "display_name": "Python 3"
    }
  },
  "cells": [
    {
      "cell_type": "markdown",
      "metadata": {
        "id": "view-in-github",
        "colab_type": "text"
      },
      "source": [
        "<a href=\"https://colab.research.google.com/github/resulcaliskan/projects/blob/master/keras_mnist_hand_digit.ipynb\" target=\"_parent\"><img src=\"https://colab.research.google.com/assets/colab-badge.svg\" alt=\"Open In Colab\"/></a>"
      ]
    },
    {
      "cell_type": "markdown",
      "metadata": {
        "id": "GREB1aY2xuXQ",
        "colab_type": "text"
      },
      "source": [
        "### 1-import necessary libraies"
      ]
    },
    {
      "cell_type": "code",
      "metadata": {
        "id": "QTsCacUXxcoI",
        "colab_type": "code",
        "colab": {}
      },
      "source": [
        "import numpy as np\n",
        "from tensorflow import keras\n",
        "from tensorflow.keras import layers"
      ],
      "execution_count": 2,
      "outputs": []
    },
    {
      "cell_type": "markdown",
      "metadata": {
        "id": "6aS5caO2jqCL",
        "colab_type": "text"
      },
      "source": [
        "### 2- prepare the data"
      ]
    },
    {
      "cell_type": "code",
      "metadata": {
        "id": "tNsEXOoajurR",
        "colab_type": "code",
        "colab": {
          "base_uri": "https://localhost:8080/",
          "height": 119
        },
        "outputId": "ca55236a-38bd-4e52-b812-239ea31b4045"
      },
      "source": [
        "# data parameters\n",
        "num_classes = 10\n",
        "input_shape = (28,28,1)\n",
        "\n",
        "# the data split\n",
        "(x_train, y_train), (x_test, y_test) = keras.datasets.mnist.load_data()\n",
        "\n",
        "# Scale image\n",
        "x_train = x_train.astype(\"float32\")/255\n",
        "x_test = x_test.astype(\"float32\")/255\n",
        "\n",
        "# make sure image shapes are (28,28,1)\n",
        "x_train = np.expand_dims(x_train, -1)\n",
        "x_test = np.expand_dims(x_test, -1)\n",
        "print(\"x_train shape: \", x_train.shape)\n",
        "print(\"x_test shape: \", x_test.shape)\n",
        "print(x_train.shape[0], \" train samples\")\n",
        "print(x_test.shape[0], \" test samples\")\n",
        "\n",
        "# convert labels to binary class matrices\n",
        "y_train = keras.utils.to_categorical(y_train, num_classes) \n",
        "y_test = keras.utils.to_categorical(y_test, num_classes)"
      ],
      "execution_count": 3,
      "outputs": [
        {
          "output_type": "stream",
          "text": [
            "Downloading data from https://storage.googleapis.com/tensorflow/tf-keras-datasets/mnist.npz\n",
            "11493376/11490434 [==============================] - 0s 0us/step\n",
            "x_train shape:  (60000, 28, 28, 1)\n",
            "x_test shape:  (10000, 28, 28, 1)\n",
            "60000  train samples\n",
            "10000  test samples\n"
          ],
          "name": "stdout"
        }
      ]
    },
    {
      "cell_type": "markdown",
      "metadata": {
        "id": "ddLZ2fJks1Sh",
        "colab_type": "text"
      },
      "source": [
        "### 3- build the model"
      ]
    },
    {
      "cell_type": "code",
      "metadata": {
        "id": "Seox0OOZtTJW",
        "colab_type": "code",
        "colab": {
          "base_uri": "https://localhost:8080/",
          "height": 459
        },
        "outputId": "54bdbaaf-2c27-455f-f331-92403c65eb66"
      },
      "source": [
        "model = keras.Sequential(\n",
        "    [\n",
        "        keras.Input(shape=input_shape),\n",
        "        layers.Conv2D(64, kernel_size=(3, 3), activation=\"relu\"),\n",
        "        layers.MaxPooling2D(pool_size=(2, 2)),\n",
        "        layers.Conv2D(128, kernel_size=(3, 3), activation=\"relu\"),\n",
        "        layers.MaxPooling2D(pool_size=(2, 2)),\n",
        "        layers.Flatten(),\n",
        "        layers.Dropout(0.4),\n",
        "        layers.Dense(units=64, activation=\"relu\"),\n",
        "        layers.Dropout(0.4),\n",
        "        layers.Dense(units=num_classes, activation=\"softmax\"),\n",
        "    ]\n",
        ")\n",
        "\n",
        "model.summary()"
      ],
      "execution_count": 21,
      "outputs": [
        {
          "output_type": "stream",
          "text": [
            "Model: \"sequential_14\"\n",
            "_________________________________________________________________\n",
            "Layer (type)                 Output Shape              Param #   \n",
            "=================================================================\n",
            "conv2d_28 (Conv2D)           (None, 26, 26, 64)        640       \n",
            "_________________________________________________________________\n",
            "max_pooling2d_28 (MaxPooling (None, 13, 13, 64)        0         \n",
            "_________________________________________________________________\n",
            "conv2d_29 (Conv2D)           (None, 11, 11, 128)       73856     \n",
            "_________________________________________________________________\n",
            "max_pooling2d_29 (MaxPooling (None, 5, 5, 128)         0         \n",
            "_________________________________________________________________\n",
            "flatten_14 (Flatten)         (None, 3200)              0         \n",
            "_________________________________________________________________\n",
            "dropout_15 (Dropout)         (None, 3200)              0         \n",
            "_________________________________________________________________\n",
            "dense_15 (Dense)             (None, 64)                204864    \n",
            "_________________________________________________________________\n",
            "dropout_16 (Dropout)         (None, 64)                0         \n",
            "_________________________________________________________________\n",
            "dense_16 (Dense)             (None, 10)                650       \n",
            "=================================================================\n",
            "Total params: 280,010\n",
            "Trainable params: 280,010\n",
            "Non-trainable params: 0\n",
            "_________________________________________________________________\n"
          ],
          "name": "stdout"
        }
      ]
    },
    {
      "cell_type": "markdown",
      "metadata": {
        "id": "9AimPjcy0dQY",
        "colab_type": "text"
      },
      "source": [
        "### 4-train the model"
      ]
    },
    {
      "cell_type": "code",
      "metadata": {
        "id": "eNo4UT1b0mi0",
        "colab_type": "code",
        "colab": {}
      },
      "source": [
        "batch_size = 128\n",
        "epochs = 15\n",
        "\n",
        "model.compile(loss=\"categorical_crossentropy\", optimizer=\"adam\", metrics=[\"accuracy\"])\n",
        "model.fit(x_train, y_train, batch_size=batch_size, epochs=epochs, validation_batch_size=0,1)"
      ],
      "execution_count": null,
      "outputs": []
    },
    {
      "cell_type": "code",
      "metadata": {
        "id": "5xumjuje0lfX",
        "colab_type": "code",
        "colab": {
          "base_uri": "https://localhost:8080/",
          "height": 374
        },
        "outputId": "8502cbb9-33f2-4557-e71b-a14e697f6374"
      },
      "source": [
        "batch_size = 128\n",
        "epochs = 10\n",
        "\n",
        "model.compile(loss=\"categorical_crossentropy\", optimizer=\"adam\", metrics=[\"accuracy\"])\n",
        "\n",
        "model.fit(x_train, y_train, batch_size=batch_size, epochs=epochs, validation_split=0.1)"
      ],
      "execution_count": 22,
      "outputs": [
        {
          "output_type": "stream",
          "text": [
            "Epoch 1/10\n",
            "422/422 [==============================] - 90s 214ms/step - loss: 0.3420 - accuracy: 0.8921 - val_loss: 0.0621 - val_accuracy: 0.9822\n",
            "Epoch 2/10\n",
            "422/422 [==============================] - 90s 213ms/step - loss: 0.1155 - accuracy: 0.9658 - val_loss: 0.0435 - val_accuracy: 0.9868\n",
            "Epoch 3/10\n",
            "422/422 [==============================] - 93s 221ms/step - loss: 0.0893 - accuracy: 0.9743 - val_loss: 0.0375 - val_accuracy: 0.9893\n",
            "Epoch 4/10\n",
            "422/422 [==============================] - 92s 218ms/step - loss: 0.0715 - accuracy: 0.9794 - val_loss: 0.0337 - val_accuracy: 0.9900\n",
            "Epoch 5/10\n",
            "422/422 [==============================] - 92s 218ms/step - loss: 0.0617 - accuracy: 0.9817 - val_loss: 0.0341 - val_accuracy: 0.9910\n",
            "Epoch 6/10\n",
            "422/422 [==============================] - 90s 213ms/step - loss: 0.0546 - accuracy: 0.9837 - val_loss: 0.0376 - val_accuracy: 0.9910\n",
            "Epoch 7/10\n",
            "422/422 [==============================] - 90s 213ms/step - loss: 0.0502 - accuracy: 0.9846 - val_loss: 0.0288 - val_accuracy: 0.9925\n",
            "Epoch 8/10\n",
            "422/422 [==============================] - 90s 212ms/step - loss: 0.0447 - accuracy: 0.9869 - val_loss: 0.0300 - val_accuracy: 0.9927\n",
            "Epoch 9/10\n",
            "422/422 [==============================] - 91s 215ms/step - loss: 0.0417 - accuracy: 0.9875 - val_loss: 0.0326 - val_accuracy: 0.9923\n",
            "Epoch 10/10\n",
            "422/422 [==============================] - 95s 225ms/step - loss: 0.0385 - accuracy: 0.9880 - val_loss: 0.0345 - val_accuracy: 0.9915\n"
          ],
          "name": "stdout"
        },
        {
          "output_type": "execute_result",
          "data": {
            "text/plain": [
              "<tensorflow.python.keras.callbacks.History at 0x7f1cfe033080>"
            ]
          },
          "metadata": {
            "tags": []
          },
          "execution_count": 22
        }
      ]
    },
    {
      "cell_type": "markdown",
      "metadata": {
        "id": "OgIqWQs91peD",
        "colab_type": "text"
      },
      "source": [
        "### 5-evaluate the trained model"
      ]
    },
    {
      "cell_type": "code",
      "metadata": {
        "id": "lr5p21Jo2exQ",
        "colab_type": "code",
        "colab": {
          "base_uri": "https://localhost:8080/",
          "height": 51
        },
        "outputId": "04f90d14-f2d1-4346-e8d5-ba1deef86bdd"
      },
      "source": [
        "score = model.evaluate(x_test, y_test, verbose=0)\n",
        "print(\"Test loss:\", score[0])\n",
        "print(\"Test accuracy:\", score[1])"
      ],
      "execution_count": 24,
      "outputs": [
        {
          "output_type": "stream",
          "text": [
            "Test loss: 0.022517051547765732\n",
            "Test accuracy: 0.9926000237464905\n"
          ],
          "name": "stdout"
        }
      ]
    },
    {
      "cell_type": "markdown",
      "metadata": {
        "id": "Ni2j-Evt4w2o",
        "colab_type": "text"
      },
      "source": [
        "**checking a random test image**"
      ]
    },
    {
      "cell_type": "code",
      "metadata": {
        "id": "Qa50Lt4M4_HS",
        "colab_type": "code",
        "colab": {
          "base_uri": "https://localhost:8080/",
          "height": 34
        },
        "outputId": "3b6b0323-9f40-4ff6-b926-28f7c2ca3c37"
      },
      "source": [
        "sample = x_test[27].reshape(28,28)\n",
        "y_test[27]"
      ],
      "execution_count": 30,
      "outputs": [
        {
          "output_type": "execute_result",
          "data": {
            "text/plain": [
              "array([0., 0., 0., 0., 1., 0., 0., 0., 0., 0.], dtype=float32)"
            ]
          },
          "metadata": {
            "tags": []
          },
          "execution_count": 30
        }
      ]
    },
    {
      "cell_type": "code",
      "metadata": {
        "id": "h-5bN2DV57GA",
        "colab_type": "code",
        "colab": {
          "base_uri": "https://localhost:8080/",
          "height": 265
        },
        "outputId": "300578c1-06df-4c89-aa08-27ddfa29c03a"
      },
      "source": [
        "import matplotlib.pyplot as plt\n",
        "plt.imshow(sample)\n",
        "plt.show()"
      ],
      "execution_count": 31,
      "outputs": [
        {
          "output_type": "display_data",
          "data": {
            "image/png": "[encoded data removed]",
            "text/plain": [
              "<Figure size 432x288 with 1 Axes>"
            ]
          },
          "metadata": {
            "tags": [],
            "needs_background": "light"
          }
        }
      ]
    },
    {
      "cell_type": "code",
      "metadata": {
        "id": "ROI1Teq6A37t",
        "colab_type": "code",
        "colab": {
          "base_uri": "https://localhost:8080/",
          "height": 34
        },
        "outputId": "a463fa59-c1b3-40be-f7d8-606b9ab15893"
      },
      "source": [
        "prediction = model.predict(sample.reshape(1,28,28,1))\n",
        "print(prediction.round())"
      ],
      "execution_count": 39,
      "outputs": [
        {
          "output_type": "stream",
          "text": [
            "[[0. 0. 0. 0. 1. 0. 0. 0. 0. 0.]]\n"
          ],
          "name": "stdout"
        }
      ]
    },
    {
      "cell_type": "code",
      "metadata": {
        "id": "N7iIemgNBveb",
        "colab_type": "code",
        "colab": {}
      },
      "source": [
        ""
      ],
      "execution_count": null,
      "outputs": []
    }
  ]
}