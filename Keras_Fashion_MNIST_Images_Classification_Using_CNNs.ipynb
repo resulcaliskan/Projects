{
  "nbformat": 4,
  "nbformat_minor": 0,
  "metadata": {
    "kernelspec": {
      "name": "python3",
      "display_name": "Python 3"
    },
    "language_info": {
      "codemirror_mode": {
        "name": "ipython",
        "version": 3
      },
      "file_extension": ".py",
      "mimetype": "text/x-python",
      "name": "python",
      "nbconvert_exporter": "python",
      "pygments_lexer": "ipython3",
      "version": "3.6.5"
    },
    "widgets": {
      "state": {},
      "version": "1.1.2"
    },
    "colab": {
      "name": "Project 2 - CiFAR-10 Images Classification Using CNNs.ipynb",
      "version": "0.3.2",
      "provenance": [],
      "include_colab_link": true
    },
    "accelerator": "GPU"
  },
  "cells": [
    {
      "cell_type": "markdown",
      "metadata": {
        "id": "view-in-github",
        "colab_type": "text"
      },
      "source": [
        "<a href=\"https://colab.research.google.com/github/resulcaliskan/projects/blob/master/Keras_Fashion_MNIST_Images_Classification_Using_CNNs.ipynb\" target=\"_parent\"><img src=\"https://colab.research.google.com/assets/colab-badge.svg\" alt=\"Open In Colab\"/></a>"
      ]
    },
    {
      "cell_type": "markdown",
      "metadata": {
        "id": "EB6oo0-aAWdw",
        "colab_type": "text"
      },
      "source": [
        "\n",
        "# CODE TO CLASSIFY IMAGES (CIFAR-10) USING CNNs\n",
        "\n"
      ]
    },
    {
      "cell_type": "markdown",
      "metadata": {
        "id": "PuB4hD5AAWdy",
        "colab_type": "text"
      },
      "source": [
        "# STEP 0: PROBLEM STATEMENT"
      ]
    },
    {
      "cell_type": "markdown",
      "metadata": {
        "id": "1eyxHaWqAWdz",
        "colab_type": "text"
      },
      "source": [
        "- CIFAR-10 is a dataset that consists of several images divided into the following 10 classes: \n",
        "    - Airplanes\n",
        "    - Cars \n",
        "    - Birds\n",
        "    - Cats\n",
        "    - Deer\n",
        "    - Dogs\n",
        "    - Frogs\n",
        "    - Horses\n",
        "    - Ships\n",
        "    - Trucks\n",
        "\n",
        "- The dataset stands for the Canadian Institute For Advanced Research (CIFAR)\n",
        "- CIFAR-10 is widely used for machine learning and computer vision applications. \n",
        "- The dataset consists of 60,000 32x32 color images and 6,000 images of each class.\n",
        "- Images have low resolution (32x32). \n",
        "- Data Source: https://www.cs.toronto.edu/~kriz/cifar.html\n"
      ]
    },
    {
      "cell_type": "markdown",
      "metadata": {
        "id": "WijQAjjjAWd1",
        "colab_type": "text"
      },
      "source": [
        "# STEP #1: IMPORT LIBRARIES/DATASETS"
      ]
    },
    {
      "cell_type": "code",
      "metadata": {
        "id": "Db7DSURsAWd2",
        "colab_type": "code",
        "colab": {}
      },
      "source": [
        "import pandas as pd\n",
        "import numpy as np\n",
        "import matplotlib.pyplot as plt\n",
        "import seaborn "
      ],
      "execution_count": 0,
      "outputs": []
    },
    {
      "cell_type": "code",
      "metadata": {
        "id": "I-gj3T_dAWd7",
        "colab_type": "code",
        "colab": {}
      },
      "source": [
        "from keras.datasets import fashion_mnist\n",
        "\n",
        "(X_train, y_train), (X_test, y_test) = fashion_mnist.load_data()"
      ],
      "execution_count": 0,
      "outputs": []
    },
    {
      "cell_type": "code",
      "metadata": {
        "id": "AltHucooQHX8",
        "colab_type": "code",
        "colab": {}
      },
      "source": [
        "# reshape dataset to have a single channel\n",
        "X_train = X_train.reshape((X_train.shape[0], 28, 28, 1))\n",
        "X_test = X_test.reshape((X_test.shape[0], 28, 28, 1))"
      ],
      "execution_count": 0,
      "outputs": []
    },
    {
      "cell_type": "code",
      "metadata": {
        "id": "3L3GNj1bAWd-",
        "colab_type": "code",
        "colab": {
          "base_uri": "https://localhost:8080/",
          "height": 34
        },
        "outputId": "80e3f10c-6c12-4e2b-96b3-35c86989b03e"
      },
      "source": [
        "X_train.shape"
      ],
      "execution_count": 56,
      "outputs": [
        {
          "output_type": "execute_result",
          "data": {
            "text/plain": [
              "(60000, 28, 28, 1)"
            ]
          },
          "metadata": {
            "tags": []
          },
          "execution_count": 56
        }
      ]
    },
    {
      "cell_type": "code",
      "metadata": {
        "id": "L3vv8E6QAWeE",
        "colab_type": "code",
        "colab": {
          "base_uri": "https://localhost:8080/",
          "height": 34
        },
        "outputId": "ac551211-669e-4c6e-a99e-3b714257d023"
      },
      "source": [
        "X_test.shape"
      ],
      "execution_count": 57,
      "outputs": [
        {
          "output_type": "execute_result",
          "data": {
            "text/plain": [
              "(10000, 28, 28, 1)"
            ]
          },
          "metadata": {
            "tags": []
          },
          "execution_count": 57
        }
      ]
    },
    {
      "cell_type": "code",
      "metadata": {
        "id": "k9skxsn0AWeJ",
        "colab_type": "code",
        "colab": {
          "base_uri": "https://localhost:8080/",
          "height": 34
        },
        "outputId": "64e06078-bd72-4288-fe66-709ff13847da"
      },
      "source": [
        "y_train.shape"
      ],
      "execution_count": 58,
      "outputs": [
        {
          "output_type": "execute_result",
          "data": {
            "text/plain": [
              "(60000,)"
            ]
          },
          "metadata": {
            "tags": []
          },
          "execution_count": 58
        }
      ]
    },
    {
      "cell_type": "code",
      "metadata": {
        "id": "mfZmbj3LAWeM",
        "colab_type": "code",
        "colab": {
          "base_uri": "https://localhost:8080/",
          "height": 34
        },
        "outputId": "3e9b04aa-1f09-4cdf-d390-52155d8f07f8"
      },
      "source": [
        "y_test.shape"
      ],
      "execution_count": 59,
      "outputs": [
        {
          "output_type": "execute_result",
          "data": {
            "text/plain": [
              "(10000,)"
            ]
          },
          "metadata": {
            "tags": []
          },
          "execution_count": 59
        }
      ]
    },
    {
      "cell_type": "markdown",
      "metadata": {
        "id": "RJbOQpGWAWeQ",
        "colab_type": "text"
      },
      "source": [
        "# STEP #2: VISUALIZE DATA"
      ]
    },
    {
      "cell_type": "code",
      "metadata": {
        "id": "ucz7OWhQAWeS",
        "colab_type": "code",
        "colab": {}
      },
      "source": [
        "i = 30009\n",
        "plt.imshow(X_train[i])\n",
        "print(y_train[i])"
      ],
      "execution_count": 0,
      "outputs": []
    },
    {
      "cell_type": "code",
      "metadata": {
        "id": "VxTt8yZEAWeW",
        "colab_type": "code",
        "colab": {}
      },
      "source": [
        "W_grid = 8\n",
        "L_grid = 8\n",
        "\n",
        "fig, axes = plt.subplots(L_grid, W_grid, figsize = (20,20))\n",
        "axes = axes.ravel()\n",
        "\n",
        "n_training = len(X_train)\n",
        "\n",
        "for i in np.arange(0, L_grid * W_grid):\n",
        "    index = np.random.randint(0, n_training) # pick a random number\n",
        "    axes[i].imshow(X_train[index])\n",
        "    axes[i].set_title(y_train[index])\n",
        "    axes[i].axis('off')\n",
        "    \n",
        "plt.subplots_adjust(hspace = 0.4)"
      ],
      "execution_count": 0,
      "outputs": []
    },
    {
      "cell_type": "code",
      "metadata": {
        "id": "gPxij-xBAWea",
        "colab_type": "code",
        "colab": {
          "base_uri": "https://localhost:8080/",
          "height": 34
        },
        "outputId": "cee08851-73ff-44db-d906-28b191879815"
      },
      "source": [
        "n_training"
      ],
      "execution_count": 17,
      "outputs": [
        {
          "output_type": "execute_result",
          "data": {
            "text/plain": [
              "60000"
            ]
          },
          "metadata": {
            "tags": []
          },
          "execution_count": 17
        }
      ]
    },
    {
      "cell_type": "code",
      "metadata": {
        "id": "rbCKfoHDAWee",
        "colab_type": "code",
        "colab": {}
      },
      "source": [
        ""
      ],
      "execution_count": 0,
      "outputs": []
    },
    {
      "cell_type": "markdown",
      "metadata": {
        "id": "WH1182TvAWeh",
        "colab_type": "text"
      },
      "source": [
        "# STEP #3: DATA PREPARATION"
      ]
    },
    {
      "cell_type": "code",
      "metadata": {
        "id": "k4VcKJOKAWej",
        "colab_type": "code",
        "colab": {}
      },
      "source": [
        "X_train = X_train.astype('float32')\n",
        "X_test = X_test.astype('float32')"
      ],
      "execution_count": 0,
      "outputs": []
    },
    {
      "cell_type": "code",
      "metadata": {
        "id": "HRZ5bOodAWen",
        "colab_type": "code",
        "colab": {}
      },
      "source": [
        "number_cat = 10"
      ],
      "execution_count": 0,
      "outputs": []
    },
    {
      "cell_type": "code",
      "metadata": {
        "id": "ziVg1oIkAWer",
        "colab_type": "code",
        "colab": {
          "base_uri": "https://localhost:8080/",
          "height": 34
        },
        "outputId": "e39d921a-ad8e-4e47-e326-430f54d14a1e"
      },
      "source": [
        "y_train"
      ],
      "execution_count": 65,
      "outputs": [
        {
          "output_type": "execute_result",
          "data": {
            "text/plain": [
              "array([9, 0, 0, ..., 3, 0, 5], dtype=uint8)"
            ]
          },
          "metadata": {
            "tags": []
          },
          "execution_count": 65
        }
      ]
    },
    {
      "cell_type": "code",
      "metadata": {
        "id": "W5tmj4WnAWew",
        "colab_type": "code",
        "colab": {}
      },
      "source": [
        "import keras\n",
        "y_train = keras.utils.to_categorical(y_train, number_cat)"
      ],
      "execution_count": 0,
      "outputs": []
    },
    {
      "cell_type": "code",
      "metadata": {
        "id": "4X1uDdkQAWe4",
        "colab_type": "code",
        "colab": {
          "base_uri": "https://localhost:8080/",
          "height": 136
        },
        "outputId": "006b6cce-2292-4059-9426-7021a56bf95a"
      },
      "source": [
        "y_train"
      ],
      "execution_count": 67,
      "outputs": [
        {
          "output_type": "execute_result",
          "data": {
            "text/plain": [
              "array([[0., 0., 0., ..., 0., 0., 1.],\n",
              "       [1., 0., 0., ..., 0., 0., 0.],\n",
              "       [1., 0., 0., ..., 0., 0., 0.],\n",
              "       ...,\n",
              "       [0., 0., 0., ..., 0., 0., 0.],\n",
              "       [1., 0., 0., ..., 0., 0., 0.],\n",
              "       [0., 0., 0., ..., 0., 0., 0.]], dtype=float32)"
            ]
          },
          "metadata": {
            "tags": []
          },
          "execution_count": 67
        }
      ]
    },
    {
      "cell_type": "code",
      "metadata": {
        "id": "BHAmYQj4AWe8",
        "colab_type": "code",
        "colab": {}
      },
      "source": [
        "y_test = keras.utils.to_categorical(y_test, number_cat)"
      ],
      "execution_count": 0,
      "outputs": []
    },
    {
      "cell_type": "code",
      "metadata": {
        "id": "k40KQKGPAWfA",
        "colab_type": "code",
        "colab": {
          "base_uri": "https://localhost:8080/",
          "height": 136
        },
        "outputId": "9699d16b-f5f4-4802-c995-0bf572f61623"
      },
      "source": [
        "y_test"
      ],
      "execution_count": 69,
      "outputs": [
        {
          "output_type": "execute_result",
          "data": {
            "text/plain": [
              "array([[0., 0., 0., ..., 0., 0., 1.],\n",
              "       [0., 0., 1., ..., 0., 0., 0.],\n",
              "       [0., 1., 0., ..., 0., 0., 0.],\n",
              "       ...,\n",
              "       [0., 0., 0., ..., 0., 1., 0.],\n",
              "       [0., 1., 0., ..., 0., 0., 0.],\n",
              "       [0., 0., 0., ..., 0., 0., 0.]], dtype=float32)"
            ]
          },
          "metadata": {
            "tags": []
          },
          "execution_count": 69
        }
      ]
    },
    {
      "cell_type": "code",
      "metadata": {
        "id": "JGAe0xiHAWfE",
        "colab_type": "code",
        "colab": {}
      },
      "source": [
        "X_train = X_train/255\n",
        "X_test = X_test/255\n"
      ],
      "execution_count": 0,
      "outputs": []
    },
    {
      "cell_type": "code",
      "metadata": {
        "id": "s3BF1O_VAWfU",
        "colab_type": "code",
        "colab": {
          "base_uri": "https://localhost:8080/",
          "height": 34
        },
        "outputId": "e8bb7a00-3db4-43a8-b01f-b937ec661436"
      },
      "source": [
        "X_train.shape"
      ],
      "execution_count": 72,
      "outputs": [
        {
          "output_type": "execute_result",
          "data": {
            "text/plain": [
              "(60000, 28, 28, 1)"
            ]
          },
          "metadata": {
            "tags": []
          },
          "execution_count": 72
        }
      ]
    },
    {
      "cell_type": "code",
      "metadata": {
        "id": "u1pEfvX8AWfc",
        "colab_type": "code",
        "colab": {}
      },
      "source": [
        "Input_shape = X_train.shape[1:]"
      ],
      "execution_count": 0,
      "outputs": []
    },
    {
      "cell_type": "code",
      "metadata": {
        "id": "G1gUfEAMAWfh",
        "colab_type": "code",
        "colab": {
          "base_uri": "https://localhost:8080/",
          "height": 34
        },
        "outputId": "48071ea9-7005-4c34-82f3-ce84beb78be2"
      },
      "source": [
        "Input_shape"
      ],
      "execution_count": 74,
      "outputs": [
        {
          "output_type": "execute_result",
          "data": {
            "text/plain": [
              "(28, 28, 1)"
            ]
          },
          "metadata": {
            "tags": []
          },
          "execution_count": 74
        }
      ]
    },
    {
      "cell_type": "markdown",
      "metadata": {
        "id": "fao4rylSAWfk",
        "colab_type": "text"
      },
      "source": [
        "# STEP #4: TRAIN THE MODEL"
      ]
    },
    {
      "cell_type": "code",
      "metadata": {
        "id": "DneqiBzCAWfl",
        "colab_type": "code",
        "colab": {}
      },
      "source": [
        "from keras.models import Sequential\n",
        "from keras.layers import Conv2D, MaxPooling2D, AveragePooling2D, Dense, Flatten, Dropout\n",
        "from keras.optimizers import Adam\n",
        "from keras.callbacks import TensorBoard"
      ],
      "execution_count": 0,
      "outputs": []
    },
    {
      "cell_type": "code",
      "metadata": {
        "id": "ET_zmIbnAWfp",
        "colab_type": "code",
        "colab": {}
      },
      "source": [
        "cnn_model = Sequential()\n",
        "cnn_model.add(Conv2D(filters = 64, kernel_size = (3,3), activation = 'relu', input_shape = Input_shape ))\n",
        "cnn_model.add(Conv2D(filters = 64, kernel_size = (3,3), activation = 'relu'))\n",
        "cnn_model.add(MaxPooling2D(2,2))\n",
        "cnn_model.add(Dropout(0.3))\n",
        "\n",
        "\n",
        "cnn_model.add(Conv2D(filters = 128, kernel_size = (3,3), activation = 'relu'))\n",
        "cnn_model.add(Conv2D(filters = 128, kernel_size = (3,3), activation = 'relu'))\n",
        "cnn_model.add(MaxPooling2D(2,2))\n",
        "cnn_model.add(Dropout(0.3))\n",
        "\n",
        "cnn_model.add(Flatten())\n",
        "\n",
        "cnn_model.add(Dense(units = 1024, activation = 'relu'))\n",
        "cnn_model.add(Dropout(0.25))\n",
        "cnn_model.add(Dense(units = 1024, activation = 'relu'))\n",
        "cnn_model.add(Dropout(0.25))\n",
        "cnn_model.add(Dense(units = 512, activation = 'relu'))\n",
        "cnn_model.add(Dense(units = 10, activation = 'softmax'))"
      ],
      "execution_count": 0,
      "outputs": []
    },
    {
      "cell_type": "code",
      "metadata": {
        "id": "_jh3KC45AWfs",
        "colab_type": "code",
        "colab": {}
      },
      "source": [
        "cnn_model.compile(loss = 'categorical_crossentropy', optimizer = \"adam\", metrics = ['accuracy'])"
      ],
      "execution_count": 0,
      "outputs": []
    },
    {
      "cell_type": "code",
      "metadata": {
        "id": "JZFHNrxDAWfx",
        "colab_type": "code",
        "colab": {
          "base_uri": "https://localhost:8080/",
          "height": 1000
        },
        "outputId": "e13875e7-c49f-4865-c6d2-488a60305759"
      },
      "source": [
        "history = cnn_model.fit(X_train, y_train, batch_size = 32, epochs = 50, shuffle = True)"
      ],
      "execution_count": 78,
      "outputs": [
        {
          "output_type": "stream",
          "text": [
            "W0901 14:47:01.664186 139688642017152 deprecation.py:323] From /usr/local/lib/python3.6/dist-packages/tensorflow/python/ops/math_grad.py:1250: add_dispatch_support.<locals>.wrapper (from tensorflow.python.ops.array_ops) is deprecated and will be removed in a future version.\n",
            "Instructions for updating:\n",
            "Use tf.where in 2.0, which has the same broadcast rule as np.where\n"
          ],
          "name": "stderr"
        },
        {
          "output_type": "stream",
          "text": [
            "Epoch 1/50\n",
            "60000/60000 [==============================] - 25s 418us/step - loss: 0.5075 - acc: 0.8108\n",
            "Epoch 2/50\n",
            "60000/60000 [==============================] - 17s 276us/step - loss: 0.3339 - acc: 0.8798\n",
            "Epoch 3/50\n",
            "60000/60000 [==============================] - 17s 276us/step - loss: 0.2949 - acc: 0.8950\n",
            "Epoch 4/50\n",
            "60000/60000 [==============================] - 16s 275us/step - loss: 0.2701 - acc: 0.9031\n",
            "Epoch 5/50\n",
            "60000/60000 [==============================] - 17s 278us/step - loss: 0.2526 - acc: 0.9089\n",
            "Epoch 6/50\n",
            "60000/60000 [==============================] - 17s 276us/step - loss: 0.2404 - acc: 0.9132\n",
            "Epoch 7/50\n",
            "60000/60000 [==============================] - 17s 278us/step - loss: 0.2290 - acc: 0.9177\n",
            "Epoch 8/50\n",
            "60000/60000 [==============================] - 17s 279us/step - loss: 0.2247 - acc: 0.9186\n",
            "Epoch 9/50\n",
            "60000/60000 [==============================] - 17s 278us/step - loss: 0.2180 - acc: 0.9204\n",
            "Epoch 10/50\n",
            "60000/60000 [==============================] - 17s 278us/step - loss: 0.2110 - acc: 0.9242\n",
            "Epoch 11/50\n",
            "60000/60000 [==============================] - 17s 276us/step - loss: 0.2076 - acc: 0.9256\n",
            "Epoch 12/50\n",
            "60000/60000 [==============================] - 17s 277us/step - loss: 0.2035 - acc: 0.9276\n",
            "Epoch 13/50\n",
            "60000/60000 [==============================] - 17s 280us/step - loss: 0.1920 - acc: 0.9305\n",
            "Epoch 14/50\n",
            "60000/60000 [==============================] - 17s 278us/step - loss: 0.1913 - acc: 0.9309\n",
            "Epoch 15/50\n",
            "60000/60000 [==============================] - 17s 277us/step - loss: 0.1929 - acc: 0.9298\n",
            "Epoch 16/50\n",
            "60000/60000 [==============================] - 17s 276us/step - loss: 0.1903 - acc: 0.9337\n",
            "Epoch 17/50\n",
            "60000/60000 [==============================] - 17s 276us/step - loss: 0.1885 - acc: 0.9344\n",
            "Epoch 18/50\n",
            "60000/60000 [==============================] - 17s 276us/step - loss: 0.1803 - acc: 0.9341\n",
            "Epoch 19/50\n",
            "60000/60000 [==============================] - 17s 279us/step - loss: 0.1894 - acc: 0.9335\n",
            "Epoch 20/50\n",
            "60000/60000 [==============================] - 17s 280us/step - loss: 0.1802 - acc: 0.9358\n",
            "Epoch 21/50\n",
            "60000/60000 [==============================] - 17s 276us/step - loss: 0.1744 - acc: 0.9387\n",
            "Epoch 22/50\n",
            "60000/60000 [==============================] - 16s 274us/step - loss: 0.1736 - acc: 0.9379\n",
            "Epoch 23/50\n",
            "60000/60000 [==============================] - 17s 276us/step - loss: 0.1774 - acc: 0.9373\n",
            "Epoch 24/50\n",
            "60000/60000 [==============================] - 17s 281us/step - loss: 0.1706 - acc: 0.9399\n",
            "Epoch 25/50\n",
            "60000/60000 [==============================] - 17s 281us/step - loss: 0.1752 - acc: 0.9404\n",
            "Epoch 26/50\n",
            "60000/60000 [==============================] - 16s 273us/step - loss: 0.1702 - acc: 0.9408\n",
            "Epoch 27/50\n",
            "60000/60000 [==============================] - 17s 275us/step - loss: 0.1727 - acc: 0.9398\n",
            "Epoch 28/50\n",
            "60000/60000 [==============================] - 16s 274us/step - loss: 0.1638 - acc: 0.9425\n",
            "Epoch 29/50\n",
            "60000/60000 [==============================] - 17s 276us/step - loss: 0.1643 - acc: 0.9428\n",
            "Epoch 30/50\n",
            "60000/60000 [==============================] - 16s 273us/step - loss: 0.1730 - acc: 0.9408\n",
            "Epoch 31/50\n",
            "60000/60000 [==============================] - 17s 275us/step - loss: 0.1620 - acc: 0.9436\n",
            "Epoch 32/50\n",
            "60000/60000 [==============================] - 17s 277us/step - loss: 0.1773 - acc: 0.9405\n",
            "Epoch 33/50\n",
            "60000/60000 [==============================] - 16s 274us/step - loss: 0.1838 - acc: 0.9396\n",
            "Epoch 34/50\n",
            "60000/60000 [==============================] - 17s 276us/step - loss: 0.1599 - acc: 0.9458\n",
            "Epoch 35/50\n",
            "60000/60000 [==============================] - 16s 274us/step - loss: 0.1629 - acc: 0.9452\n",
            "Epoch 36/50\n",
            "60000/60000 [==============================] - 16s 274us/step - loss: 0.1649 - acc: 0.9450\n",
            "Epoch 37/50\n",
            "60000/60000 [==============================] - 16s 274us/step - loss: 0.1571 - acc: 0.9456\n",
            "Epoch 38/50\n",
            "60000/60000 [==============================] - 17s 279us/step - loss: 0.1655 - acc: 0.9446\n",
            "Epoch 39/50\n",
            "60000/60000 [==============================] - 17s 275us/step - loss: 0.1637 - acc: 0.9454\n",
            "Epoch 40/50\n",
            "60000/60000 [==============================] - 16s 274us/step - loss: 0.1568 - acc: 0.9459\n",
            "Epoch 41/50\n",
            "60000/60000 [==============================] - 16s 273us/step - loss: 0.1580 - acc: 0.9474\n",
            "Epoch 42/50\n",
            "60000/60000 [==============================] - 16s 274us/step - loss: 0.1685 - acc: 0.9441\n",
            "Epoch 43/50\n",
            "60000/60000 [==============================] - 16s 274us/step - loss: 0.1736 - acc: 0.9456\n",
            "Epoch 44/50\n",
            "60000/60000 [==============================] - 16s 273us/step - loss: 0.1505 - acc: 0.9490\n",
            "Epoch 45/50\n",
            "60000/60000 [==============================] - 16s 272us/step - loss: 0.1584 - acc: 0.9479\n",
            "Epoch 46/50\n",
            "60000/60000 [==============================] - 16s 272us/step - loss: 0.1748 - acc: 0.9423\n",
            "Epoch 47/50\n",
            "60000/60000 [==============================] - 16s 271us/step - loss: 0.1604 - acc: 0.9463\n",
            "Epoch 48/50\n",
            "60000/60000 [==============================] - 16s 273us/step - loss: 0.1607 - acc: 0.9468\n",
            "Epoch 49/50\n",
            "60000/60000 [==============================] - 17s 276us/step - loss: 0.1588 - acc: 0.9470\n",
            "Epoch 50/50\n",
            "60000/60000 [==============================] - 16s 274us/step - loss: 0.1781 - acc: 0.9415\n"
          ],
          "name": "stdout"
        }
      ]
    },
    {
      "cell_type": "markdown",
      "metadata": {
        "id": "SIH3bfTpAWf0",
        "colab_type": "text"
      },
      "source": [
        "# STEP #5: EVALUATE THE MODEL"
      ]
    },
    {
      "cell_type": "code",
      "metadata": {
        "id": "qpsqi9BwAWf1",
        "colab_type": "code",
        "colab": {
          "base_uri": "https://localhost:8080/",
          "height": 51
        },
        "outputId": "a7489be3-ee84-469f-8088-be22000fa123"
      },
      "source": [
        "evaluation = cnn_model.evaluate(X_test, y_test)\n",
        "print('Test Accuracy: {}'.format(evaluation[1]))"
      ],
      "execution_count": 79,
      "outputs": [
        {
          "output_type": "stream",
          "text": [
            "10000/10000 [==============================] - 1s 92us/step\n",
            "Test Accuracy: 0.9253\n"
          ],
          "name": "stdout"
        }
      ]
    },
    {
      "cell_type": "code",
      "metadata": {
        "id": "0aT3M7X8AWf4",
        "colab_type": "code",
        "colab": {
          "base_uri": "https://localhost:8080/",
          "height": 34
        },
        "outputId": "5ce3e6fc-3cce-4e7e-a55c-3184540ccdf2"
      },
      "source": [
        "predicted_classes = cnn_model.predict_classes(X_test) \n",
        "predicted_classes"
      ],
      "execution_count": 80,
      "outputs": [
        {
          "output_type": "execute_result",
          "data": {
            "text/plain": [
              "array([9, 2, 1, ..., 8, 1, 5])"
            ]
          },
          "metadata": {
            "tags": []
          },
          "execution_count": 80
        }
      ]
    },
    {
      "cell_type": "code",
      "metadata": {
        "id": "lTlFvlOIAWf-",
        "colab_type": "code",
        "colab": {
          "base_uri": "https://localhost:8080/",
          "height": 136
        },
        "outputId": "a12c8293-a083-46bf-a516-889f33ad79c1"
      },
      "source": [
        "y_test"
      ],
      "execution_count": 81,
      "outputs": [
        {
          "output_type": "execute_result",
          "data": {
            "text/plain": [
              "array([[0., 0., 0., ..., 0., 0., 1.],\n",
              "       [0., 0., 1., ..., 0., 0., 0.],\n",
              "       [0., 1., 0., ..., 0., 0., 0.],\n",
              "       ...,\n",
              "       [0., 0., 0., ..., 0., 1., 0.],\n",
              "       [0., 1., 0., ..., 0., 0., 0.],\n",
              "       [0., 0., 0., ..., 0., 0., 0.]], dtype=float32)"
            ]
          },
          "metadata": {
            "tags": []
          },
          "execution_count": 81
        }
      ]
    },
    {
      "cell_type": "code",
      "metadata": {
        "id": "MmxBwkOOAWgB",
        "colab_type": "code",
        "colab": {}
      },
      "source": [
        "y_test = y_test.argmax(1)"
      ],
      "execution_count": 0,
      "outputs": []
    },
    {
      "cell_type": "code",
      "metadata": {
        "id": "BUWsTGkvAWgG",
        "colab_type": "code",
        "colab": {
          "base_uri": "https://localhost:8080/",
          "height": 34
        },
        "outputId": "ebeac704-e5b7-4f25-b611-3f553b357e2d"
      },
      "source": [
        "y_test"
      ],
      "execution_count": 83,
      "outputs": [
        {
          "output_type": "execute_result",
          "data": {
            "text/plain": [
              "array([9, 2, 1, ..., 8, 1, 5])"
            ]
          },
          "metadata": {
            "tags": []
          },
          "execution_count": 83
        }
      ]
    },
    {
      "cell_type": "code",
      "metadata": {
        "id": "NBW1t9mOAWgJ",
        "colab_type": "code",
        "colab": {}
      },
      "source": [
        "L = 7\n",
        "W = 7\n",
        "fig, axes = plt.subplots(L, W, figsize = (12, 12))\n",
        "axes = axes.ravel()\n",
        "\n",
        "for i in np.arange(0, L*W):\n",
        "    axes[i].imshow(X_test[i])\n",
        "    axes[i].set_title('Prediction = {}\\n True = {}'.format(predicted_classes[i], y_test[i]))\n",
        "    axes[i].axis('off')\n",
        "\n",
        "plt.subplots_adjust(wspace = 1)    "
      ],
      "execution_count": 0,
      "outputs": []
    },
    {
      "cell_type": "code",
      "metadata": {
        "id": "J4BsUVoSAWgO",
        "colab_type": "code",
        "colab": {}
      },
      "source": [
        "from sklearn.metrics import confusion_matrix\n",
        "import seaborn as sns\n",
        "\n",
        "cm = confusion_matrix(y_test, predicted_classes)\n",
        "cm\n",
        "plt.figure(figsize = (10, 10))\n",
        "sns.heatmap(cm, annot = True)"
      ],
      "execution_count": 0,
      "outputs": []
    },
    {
      "cell_type": "markdown",
      "metadata": {
        "id": "bY9xERoUAWgR",
        "colab_type": "text"
      },
      "source": [
        "# STEP #6: SAVING THE MODEL"
      ]
    },
    {
      "cell_type": "code",
      "metadata": {
        "id": "tzn0RHbiAWgS",
        "colab_type": "code",
        "colab": {}
      },
      "source": [
        "import os \n",
        "directory = os.path.join(os.getcwd(), 'saved_models')\n",
        "\n",
        "if not os.path.isdir(directory):\n",
        "    os.makedirs(directory)\n",
        "model_path = os.path.join(directory, 'keras_fashion_mnist_trained_model.h5')\n",
        "cnn_model.save(model_path)"
      ],
      "execution_count": 0,
      "outputs": []
    },
    {
      "cell_type": "markdown",
      "metadata": {
        "id": "Jt_bAFRuAWgX",
        "colab_type": "text"
      },
      "source": [
        "# STEP #7: IMPROVING THE MODEL WITH DATA AUGMENTATION"
      ]
    },
    {
      "cell_type": "markdown",
      "metadata": {
        "id": "ZR9Y11OTAWgY",
        "colab_type": "text"
      },
      "source": [
        "- Image Augmentation is the process of artificially increasing the variations of the images in the datasets by flipping, enlarging, rotating the original images. \n",
        "- Augmentations also include shifting and changing the brightness of the images."
      ]
    },
    {
      "cell_type": "markdown",
      "metadata": {
        "id": "KsYRoqBiAWg3",
        "colab_type": "text"
      },
      "source": [
        "# STEP 7 MODEL TRAINING USING AUGEMENTED DATASET"
      ]
    },
    {
      "cell_type": "code",
      "metadata": {
        "id": "02T6mAHZAWg6",
        "colab_type": "code",
        "colab": {}
      },
      "source": [
        "from keras.preprocessing.image import ImageDataGenerator\n",
        "\n",
        "datagen = ImageDataGenerator(\n",
        "                            rotation_range = 90,\n",
        "                            width_shift_range = 0.1,\n",
        "                            horizontal_flip = True,\n",
        "                            vertical_flip = True\n",
        "                             )"
      ],
      "execution_count": 0,
      "outputs": []
    },
    {
      "cell_type": "code",
      "metadata": {
        "id": "E0opqItNAWg-",
        "colab_type": "code",
        "colab": {}
      },
      "source": [
        "datagen.fit(X_train)"
      ],
      "execution_count": 0,
      "outputs": []
    },
    {
      "cell_type": "code",
      "metadata": {
        "id": "hjhj4_fgAWhE",
        "colab_type": "code",
        "colab": {
          "base_uri": "https://localhost:8080/",
          "height": 204
        },
        "outputId": "81f8cfe1-144d-4a70-98b4-b8388d1de12b"
      },
      "source": [
        "cnn_model.fit_generator(datagen.flow(X_train, y_train, batch_size = 32), epochs = 5)"
      ],
      "execution_count": 89,
      "outputs": [
        {
          "output_type": "stream",
          "text": [
            "Epoch 1/5\n",
            "1875/1875 [==============================] - 20s 11ms/step - loss: 1.8329 - acc: 0.2800\n",
            "Epoch 2/5\n",
            "1875/1875 [==============================] - 20s 11ms/step - loss: 1.5086 - acc: 0.4152\n",
            "Epoch 3/5\n",
            "1875/1875 [==============================] - 20s 11ms/step - loss: 1.2649 - acc: 0.5289\n",
            "Epoch 4/5\n",
            "1875/1875 [==============================] - 20s 11ms/step - loss: 1.0726 - acc: 0.6106\n",
            "Epoch 5/5\n",
            "1875/1875 [==============================] - 20s 11ms/step - loss: 0.9611 - acc: 0.6491\n"
          ],
          "name": "stdout"
        },
        {
          "output_type": "execute_result",
          "data": {
            "text/plain": [
              "<keras.callbacks.History at 0x7f0b3de40be0>"
            ]
          },
          "metadata": {
            "tags": []
          },
          "execution_count": 89
        }
      ]
    },
    {
      "cell_type": "code",
      "metadata": {
        "id": "R2dUM2unAWhP",
        "colab_type": "code",
        "colab": {}
      },
      "source": [
        "# save the model\n",
        "directory = os.path.join(os.getcwd(), 'saved_models')\n",
        "\n",
        "if not os.path.isdir(directory):\n",
        "    os.makedirs(directory)\n",
        "model_path = os.path.join(directory, 'keras_fashion_mnist_trained_model_Augmentation.h5')\n",
        "cnn_model.save(model_path)"
      ],
      "execution_count": 0,
      "outputs": []
    },
    {
      "cell_type": "markdown",
      "metadata": {
        "id": "mS7Ij6MoAWhV",
        "colab_type": "text"
      },
      "source": [
        "# GREAT JOB! "
      ]
    }
  ]
}